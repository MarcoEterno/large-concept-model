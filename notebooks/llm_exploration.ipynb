{
 "cells": [
  {
   "cell_type": "code",
   "execution_count": 1,
   "id": "initial_id",
   "metadata": {
    "ExecuteTime": {
     "end_time": "2024-07-20T14:03:25.091408Z",
     "start_time": "2024-07-20T14:03:23.516137Z"
    },
    "collapsed": true
   },
   "outputs": [],
   "source": [
    "from transformers import GPT2LMHeadModel, GPT2Tokenizer"
   ]
  },
  {
   "cell_type": "code",
   "execution_count": 3,
   "id": "a5184242c9fcb20b",
   "metadata": {
    "ExecuteTime": {
     "end_time": "2024-07-20T14:03:44.204583Z",
     "start_time": "2024-07-20T14:03:43.190106Z"
    }
   },
   "outputs": [],
   "source": [
    "model = GPT2LMHeadModel.from_pretrained('gpt2')\n",
    "tokenizer = GPT2Tokenizer.from_pretrained('gpt2')"
   ]
  },
  {
   "cell_type": "code",
   "execution_count": 4,
   "id": "de3d41070953e887",
   "metadata": {
    "ExecuteTime": {
     "end_time": "2024-07-20T14:04:17.855540Z",
     "start_time": "2024-07-20T14:04:17.853126Z"
    }
   },
   "outputs": [
    {
     "name": "stdout",
     "output_type": "stream",
     "text": [
      "GPT2LMHeadModel(\n",
      "  (transformer): GPT2Model(\n",
      "    (wte): Embedding(50257, 768)\n",
      "    (wpe): Embedding(1024, 768)\n",
      "    (drop): Dropout(p=0.1, inplace=False)\n",
      "    (h): ModuleList(\n",
      "      (0-11): 12 x GPT2Block(\n",
      "        (ln_1): LayerNorm((768,), eps=1e-05, elementwise_affine=True)\n",
      "        (attn): GPT2SdpaAttention(\n",
      "          (c_attn): Conv1D()\n",
      "          (c_proj): Conv1D()\n",
      "          (attn_dropout): Dropout(p=0.1, inplace=False)\n",
      "          (resid_dropout): Dropout(p=0.1, inplace=False)\n",
      "        )\n",
      "        (ln_2): LayerNorm((768,), eps=1e-05, elementwise_affine=True)\n",
      "        (mlp): GPT2MLP(\n",
      "          (c_fc): Conv1D()\n",
      "          (c_proj): Conv1D()\n",
      "          (act): NewGELUActivation()\n",
      "          (dropout): Dropout(p=0.1, inplace=False)\n",
      "        )\n",
      "      )\n",
      "    )\n",
      "    (ln_f): LayerNorm((768,), eps=1e-05, elementwise_affine=True)\n",
      "  )\n",
      "  (lm_head): Linear(in_features=768, out_features=50257, bias=False)\n",
      ")\n"
     ]
    }
   ],
   "source": [
    "# print all the layers of the model\n",
    "print(model)"
   ]
  },
  {
   "cell_type": "code",
   "execution_count": 5,
   "id": "4c9a73de0053c6b5",
   "metadata": {
    "ExecuteTime": {
     "end_time": "2024-07-20T14:21:44.640315Z",
     "start_time": "2024-07-20T14:21:44.630230Z"
    }
   },
   "outputs": [
    {
     "name": "stdout",
     "output_type": "stream",
     "text": [
      "GPT2Tokenizer(name_or_path='gpt2', vocab_size=50257, model_max_length=1024, is_fast=False, padding_side='right', truncation_side='right', special_tokens={'bos_token': '<|endoftext|>', 'eos_token': '<|endoftext|>', 'unk_token': '<|endoftext|>'}, clean_up_tokenization_spaces=True),  added_tokens_decoder={\n",
      "\t50256: AddedToken(\"<|endoftext|>\", rstrip=False, lstrip=False, single_word=False, normalized=True, special=True),\n",
      "}\n"
     ]
    }
   ],
   "source": [
    "print(tokenizer)"
   ]
  },
  {
   "cell_type": "code",
   "execution_count": 63,
   "id": "4d12ab07ca2e9994",
   "metadata": {
    "ExecuteTime": {
     "end_time": "2024-07-20T15:09:15.972140Z",
     "start_time": "2024-07-20T15:09:15.964744Z"
    }
   },
   "outputs": [],
   "source": [
    "# Tokenize the input text\n",
    "input_text = \"basketball is a fun game to play\"\n",
    "inputs = tokenizer(input_text, return_tensors=\"pt\")\n",
    "\n"
   ]
  },
  {
   "cell_type": "code",
   "execution_count": 59,
   "id": "ca373166781a420b",
   "metadata": {
    "ExecuteTime": {
     "end_time": "2024-07-20T14:42:08.902541Z",
     "start_time": "2024-07-20T14:42:08.755988Z"
    }
   },
   "outputs": [
    {
     "name": "stdout",
     "output_type": "stream",
     "text": [
      "torch.Size([1, 7, 50257])\n",
      "tensor([[[ -32.7464,  -31.6252,  -34.7533,  ...,  -40.4119,  -39.8658,\n",
      "           -32.9583],\n",
      "         [-113.1515, -111.2932, -114.8908,  ..., -123.0035, -120.1136,\n",
      "          -116.1134],\n",
      "         [-112.0150, -110.5219, -113.5100,  ..., -122.4088, -117.5997,\n",
      "          -112.2077],\n",
      "         ...,\n",
      "         [ -91.6831,  -93.1320, -102.4978,  ..., -107.1496, -106.9473,\n",
      "           -96.0684],\n",
      "         [-140.7971, -141.8635, -146.4763,  ..., -150.3814, -149.1989,\n",
      "          -142.0862],\n",
      "         [-107.5068, -109.3211, -119.5146,  ..., -122.9288, -123.6888,\n",
      "          -112.1354]]], grad_fn=<UnsafeViewBackward0>)\n"
     ]
    }
   ],
   "source": [
    "# Pass the tokenized input to the model\n",
    "# Ensure return_dict=True to get a detailed output including the logits\n",
    "outputs = model(**inputs, output_hidden_states=True, return_dict=True)\n",
    "print(outputs.logits.shape)\n",
    "print(outputs.logits)\n",
    "\n"
   ]
  },
  {
   "cell_type": "code",
   "execution_count": 60,
   "id": "35f157848041da49",
   "metadata": {
    "ExecuteTime": {
     "end_time": "2024-07-20T14:42:10.851277Z",
     "start_time": "2024-07-20T14:42:10.844257Z"
    }
   },
   "outputs": [
    {
     "name": "stdout",
     "output_type": "stream",
     "text": [
      "tensor(1049)\n",
      "tensor(1049)\n"
     ]
    }
   ],
   "source": [
    "# calculate the probabilities of the words\n",
    "\n",
    "probabilities = outputs.logits.softmax(dim=-1)\n",
    "\n",
    "# Print the probability of the first word\n",
    "print((probabilities[0, 2, :]).argmax())\n",
    "print(outputs.logits[0, 2, :].argmax())"
   ]
  },
  {
   "cell_type": "code",
   "execution_count": 62,
   "id": "11cbeadd1e793cef",
   "metadata": {
    "ExecuteTime": {
     "end_time": "2024-07-20T14:43:06.593702Z",
     "start_time": "2024-07-20T14:43:06.589263Z"
    }
   },
   "outputs": [
    {
     "name": "stdout",
     "output_type": "stream",
     "text": [
      ".\n",
      " a\n",
      " great\n",
      " game\n",
      ",\n",
      " watch\n",
      ".\n",
      "basketball is a fun game to play\n"
     ]
    }
   ],
   "source": [
    "for i in range(outputs.logits.shape[1]):\n",
    "    print(tokenizer.decode((probabilities[0, i, :]).argmax()))\n",
    "\n",
    "print(input_text)"
   ]
  },
  {
   "cell_type": "markdown",
   "id": "11f665d4774ebac1",
   "metadata": {},
   "source": [
    "It works! the model correctly predicts the most likely next word! We learned that given an input text of dimension N, the model returns the logits for all the predictions up until N."
   ]
  }
 ],
 "metadata": {
  "kernelspec": {
   "display_name": "Python 3",
   "language": "python",
   "name": "python3"
  },
  "language_info": {
   "codemirror_mode": {
    "name": "ipython",
    "version": 3
   },
   "file_extension": ".py",
   "mimetype": "text/x-python",
   "name": "python",
   "nbconvert_exporter": "python",
   "pygments_lexer": "ipython3",
   "version": "3.12.2"
  }
 },
 "nbformat": 4,
 "nbformat_minor": 5
}
